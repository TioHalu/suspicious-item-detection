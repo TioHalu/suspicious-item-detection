{
 "cells": [
  {
   "cell_type": "code",
   "execution_count": 8,
   "metadata": {},
   "outputs": [
    {
     "name": "stdout",
     "output_type": "stream",
     "text": [
      "kemungkinan akan menusuk korban lalu memotong2 dimasukin ke dalam  karung\n"
     ]
    },
    {
     "data": {
      "text/plain": [
       "(['pisau', 'sinsaw', 'karung'], 80)"
      ]
     },
     "execution_count": 8,
     "metadata": {},
     "output_type": "execute_result"
    }
   ],
   "source": [
    "# list barang yang dibeli\n",
    "\n",
    "barang = [ \"pisau\",\"sinsaw\", \"karung\"]\n",
    "barang1 = [\"pisau\",\"gergaji\", \"apel\", \"jeruk\"]\n",
    "\n",
    "# dictionary barang yang dibeli\n",
    "\n",
    "buy = {\"pisau\":10, \"deterjen\":20, \"sinsaw\":30, \"karung\":40}\n",
    "\n",
    "\n",
    "# list intersection dari dictionary\n",
    "\n",
    "def intersection(list1, list2):\n",
    "    \n",
    "    list3 = []\n",
    "    keterangan = \"\"\n",
    "    value = 0\n",
    "    for i in list1:\n",
    "        if i in list2:\n",
    "            list3.append(i)\n",
    "            # menjumlahkan value dari dictionary\n",
    "            value += buy[i]\n",
    "    \n",
    "    if value == 0:\n",
    "        print(\"barang tidak ada mencurigakan\") \n",
    "    elif value == 10:\n",
    "        print(\"kemungkinan akan menusuk korban\")\n",
    "    elif value == 20:\n",
    "       print(\"kemungkinan akan mencuci\") \n",
    "    elif value == 30:\n",
    "        print(\"kemungkinan akan menusuk korban lalu mencuci\")\n",
    "    elif value == 40:\n",
    "        print(\"kemungkinan akan menusuk korban lalu memotong2 dengan sinsaw\")\n",
    "    elif value == 80:\n",
    "        print(\"kemungkinan akan menusuk korban lalu memotong2 dimasukin ke dalam  karung\")\n",
    "        \n",
    "    return list3, value\n",
    "\n",
    "intersection(barang, buy)"
   ]
  },
  {
   "cell_type": "code",
   "execution_count": 9,
   "metadata": {},
   "outputs": [
    {
     "data": {
      "text/html": [
       "<div>\n",
       "<style scoped>\n",
       "    .dataframe tbody tr th:only-of-type {\n",
       "        vertical-align: middle;\n",
       "    }\n",
       "\n",
       "    .dataframe tbody tr th {\n",
       "        vertical-align: top;\n",
       "    }\n",
       "\n",
       "    .dataframe thead th {\n",
       "        text-align: right;\n",
       "    }\n",
       "</style>\n",
       "<table border=\"1\" class=\"dataframe\">\n",
       "  <thead>\n",
       "    <tr style=\"text-align: right;\">\n",
       "      <th></th>\n",
       "      <th>ID</th>\n",
       "      <th>Items</th>\n",
       "      <th>Probability Value</th>\n",
       "    </tr>\n",
       "  </thead>\n",
       "  <tbody>\n",
       "    <tr>\n",
       "      <th>0</th>\n",
       "      <td>1</td>\n",
       "      <td>Ski mask</td>\n",
       "      <td>4</td>\n",
       "    </tr>\n",
       "    <tr>\n",
       "      <th>1</th>\n",
       "      <td>2</td>\n",
       "      <td>Detergent</td>\n",
       "      <td>2</td>\n",
       "    </tr>\n",
       "    <tr>\n",
       "      <th>2</th>\n",
       "      <td>3</td>\n",
       "      <td>Sleeping pills</td>\n",
       "      <td>4</td>\n",
       "    </tr>\n",
       "    <tr>\n",
       "      <th>3</th>\n",
       "      <td>4</td>\n",
       "      <td>Hammer</td>\n",
       "      <td>5</td>\n",
       "    </tr>\n",
       "    <tr>\n",
       "      <th>4</th>\n",
       "      <td>5</td>\n",
       "      <td>Chainsaw</td>\n",
       "      <td>7</td>\n",
       "    </tr>\n",
       "  </tbody>\n",
       "</table>\n",
       "</div>"
      ],
      "text/plain": [
       "   ID           Items  Probability Value\n",
       "0   1        Ski mask                  4\n",
       "1   2       Detergent                  2\n",
       "2   3  Sleeping pills                  4\n",
       "3   4          Hammer                  5\n",
       "4   5        Chainsaw                  7"
      ]
     },
     "execution_count": 9,
     "metadata": {},
     "output_type": "execute_result"
    }
   ],
   "source": [
    "# mengambil data set item barang mencurigakan\n",
    "import pandas as pd\n",
    "itemKill = pd.read_csv('./PembunuhanItemrevisi.csv')\n",
    "itemKill.head()"
   ]
  },
  {
   "cell_type": "code",
   "execution_count": 10,
   "metadata": {},
   "outputs": [],
   "source": [
    "#list barang mencurigakan \n",
    "listKill=[]  \n",
    "for i in itemKill['Items']:\n",
    "    listKill.append(i)\n",
    "#list nilai barang mencurikagakan\n",
    "listProbVal=[]\n",
    "for i in itemKill['Probability Value']:\n",
    "    listProbVal.append(i)"
   ]
  },
  {
   "cell_type": "code",
   "execution_count": 11,
   "metadata": {},
   "outputs": [],
   "source": [
    "# contoh list barang yang dibeli\n",
    "listBarang=[\"Hammer\",\"Chainsaw\",\"Duct Tape\",\"Shovel\"]"
   ]
  },
  {
   "cell_type": "code",
   "execution_count": 12,
   "metadata": {},
   "outputs": [
    {
     "name": "stdout",
     "output_type": "stream",
     "text": [
      "{'Ski mask': 4, 'Detergent': 2, 'Sleeping pills': 4, 'Hammer': 5, 'Chainsaw': 7, 'Gloves': 3, 'Suitcase': 4, 'Duct Tape': 4, 'Bleach': 2, 'Plastic Bag': 2, 'Shovel': 7, 'Zip Ties': 3, 'Rope': 3, 'Pressure Cooker': 2, 'Boxes of Screws': 3, 'Black Powder': 8, 'Citrus Fruits': 1, 'Razor': 6, 'Knife': 7, 'Tarp': 5, 'Axe': 7, 'Pregnancy Test': 2, 'Clorox': 3, 'Isoprophyl Alcohol': 3, 'Nitrile Gloves': 3}\n",
      "0.23\n",
      "Kemungkinan Tingkat kejahatan rendah\n",
      "None\n"
     ]
    }
   ],
   "source": [
    "#mengubah list barang mencurigakan ke dictionary dengan nilai value\n",
    "def listToDictionary(list1, list2):\n",
    "    dictionary = {}\n",
    "    for i in range(len(list1)):\n",
    "        dictionary[list1[i]] = list2[i]\n",
    "    # cek(barang,dictionary)\n",
    "    return dictionary\n",
    "\n",
    "data = listToDictionary(listKill,listProbVal)\n",
    "# menampilkan data dalam bentuk dictionary\n",
    "print(data)\n",
    "\n",
    "\n",
    "# intersection dari list dan dictionary\n",
    "def intersection(list1, list2):\n",
    "    \n",
    "    list3 = []\n",
    "    keterangan = \"\"\n",
    "    value = 0\n",
    "    for i in list1:\n",
    "        if i in list2:\n",
    "            list3.append(i)\n",
    "            # menjumlahkan value dari dictionary\n",
    "            value += data[i]\n",
    "    \n",
    "    persentase = value/100\n",
    "    return persentase\n",
    "\n",
    "\n",
    "persentase = intersection(listBarang, data)\n",
    "print(persentase)\n",
    "\n",
    "# function cek persentase\n",
    "def dugaan(persentase):\n",
    "    if persentase <= 0.3:\n",
    "        print(\"Kemungkinan Tingkat kejahatan rendah\")\n",
    "    elif persentase >0.3 and persentase <= 0.6:\n",
    "        print(\"Kemungkinan Tingkat kejahatan sedang\")\n",
    "    elif persentase >0.6 and persentase <= 0.8:\n",
    "        print(\"Kemungkinan Tingkat kejahatan tinggi\")\n",
    "    elif persentase > 0.8:\n",
    "        print(\"Kemungkinan Tingkat kejahatan sangat tinggi\")\n",
    "\n",
    "hasil = dugaan(persentase)\n",
    "\n",
    "print(hasil)"
   ]
  },
  {
   "cell_type": "code",
   "execution_count": 119,
   "metadata": {},
   "outputs": [
    {
     "data": {
      "text/html": [
       "<div>\n",
       "<style scoped>\n",
       "    .dataframe tbody tr th:only-of-type {\n",
       "        vertical-align: middle;\n",
       "    }\n",
       "\n",
       "    .dataframe tbody tr th {\n",
       "        vertical-align: top;\n",
       "    }\n",
       "\n",
       "    .dataframe thead th {\n",
       "        text-align: right;\n",
       "    }\n",
       "</style>\n",
       "<table border=\"1\" class=\"dataframe\">\n",
       "  <thead>\n",
       "    <tr style=\"text-align: right;\">\n",
       "      <th></th>\n",
       "      <th>Id Member</th>\n",
       "      <th>Nama</th>\n",
       "      <th>TglPembelian</th>\n",
       "      <th>IdBarang</th>\n",
       "      <th>NamaBarang</th>\n",
       "    </tr>\n",
       "  </thead>\n",
       "  <tbody>\n",
       "    <tr>\n",
       "      <th>0</th>\n",
       "      <td>24daebcd-57ab-4f3b-8f4c-6d2ec7d5ee88</td>\n",
       "      <td>Abubakar Sinclair</td>\n",
       "      <td>14-07-2022</td>\n",
       "      <td>13746</td>\n",
       "      <td>Gloves</td>\n",
       "    </tr>\n",
       "    <tr>\n",
       "      <th>1</th>\n",
       "      <td>74deafd9-8689-427d-8718-f8e0c506e30c</td>\n",
       "      <td>Millie-Rose Strickland</td>\n",
       "      <td>14-07-2022</td>\n",
       "      <td>6d840</td>\n",
       "      <td>Ski mask</td>\n",
       "    </tr>\n",
       "    <tr>\n",
       "      <th>2</th>\n",
       "      <td>74deafd9-8689-427d-8718-f8e0c506e30c</td>\n",
       "      <td>Millie-Rose Strickland</td>\n",
       "      <td>15-07-2022</td>\n",
       "      <td>13746</td>\n",
       "      <td>Gloves</td>\n",
       "    </tr>\n",
       "    <tr>\n",
       "      <th>3</th>\n",
       "      <td>74deafd9-8689-427d-8718-f8e0c506e30c</td>\n",
       "      <td>Millie-Rose Strickland</td>\n",
       "      <td>15-07-2022</td>\n",
       "      <td>65772</td>\n",
       "      <td>Suitcase</td>\n",
       "    </tr>\n",
       "    <tr>\n",
       "      <th>4</th>\n",
       "      <td>74deafd9-8689-427d-8718-f8e0c506e30c</td>\n",
       "      <td>Millie-Rose Strickland</td>\n",
       "      <td>15-07-2022</td>\n",
       "      <td>43a92</td>\n",
       "      <td>Knife</td>\n",
       "    </tr>\n",
       "  </tbody>\n",
       "</table>\n",
       "</div>"
      ],
      "text/plain": [
       "                              Id Member                    Nama TglPembelian  \\\n",
       "0  24daebcd-57ab-4f3b-8f4c-6d2ec7d5ee88       Abubakar Sinclair   14-07-2022   \n",
       "1  74deafd9-8689-427d-8718-f8e0c506e30c  Millie-Rose Strickland   14-07-2022   \n",
       "2  74deafd9-8689-427d-8718-f8e0c506e30c  Millie-Rose Strickland   15-07-2022   \n",
       "3  74deafd9-8689-427d-8718-f8e0c506e30c  Millie-Rose Strickland   15-07-2022   \n",
       "4  74deafd9-8689-427d-8718-f8e0c506e30c  Millie-Rose Strickland   15-07-2022   \n",
       "\n",
       "  IdBarang NamaBarang  \n",
       "0    13746     Gloves  \n",
       "1    6d840   Ski mask  \n",
       "2    13746     Gloves  \n",
       "3    65772   Suitcase  \n",
       "4    43a92      Knife  "
      ]
     },
     "execution_count": 119,
     "metadata": {},
     "output_type": "execute_result"
    }
   ],
   "source": [
    "import pandas as pd\n",
    "\n",
    "datapembelian = pd.read_csv('./test dataset 25.csv')\n",
    "\n",
    "datapembelian.head()\n",
    "\n"
   ]
  },
  {
   "cell_type": "code",
   "execution_count": 123,
   "metadata": {},
   "outputs": [],
   "source": [
    "# variable data adalah killset\n",
    "# data frame\n",
    "listID = []\n",
    "for i in datapembelian['Id Member']:\n",
    "    listID.append(i)\n",
    "            \n",
    "\n",
    "# cek kesamaan listID dan Id Member maka masukan ke dalam variavle newlist\n",
    "\n",
    "newlist = []\n",
    "listbarangnew=[]\n",
    "\n",
    "n =  int(input(\"Masukan jumlah barang yang dibeli : \"))\n",
    "\n",
    "for i in range(len(listID)):\n",
    "    if listID[i] in datapembelian['Id Member'][n]:\n",
    "        newlist.append(datapembelian['NamaBarang'][i])\n",
    "        \n",
    "        \n",
    "\n"
   ]
  },
  {
   "cell_type": "code",
   "execution_count": 126,
   "metadata": {},
   "outputs": [
    {
     "name": "stdout",
     "output_type": "stream",
     "text": [
      "Kemungkinan Tingkat kejahatan rendah\n",
      "None\n",
      "0.19\n"
     ]
    }
   ],
   "source": [
    "\n",
    "def intersection(list1, list2):\n",
    "    \n",
    "    list3 = []\n",
    "    keterangan = \"\"\n",
    "    value = 0\n",
    "    for i in list1:\n",
    "        if i in list2:\n",
    "            list3.append(i)\n",
    "            # menjumlahkan value dari dictionary\n",
    "            value += data[i]\n",
    "    \n",
    "    persentase = value/100\n",
    "    return persentase\n",
    "\n",
    "persentase = intersection(newlist, data)\n",
    "\n",
    "def dugaan(persentase):\n",
    "    if persentase <= 0.3:\n",
    "        print(\"Kemungkinan Tingkat kejahatan rendah\")\n",
    "    elif persentase >0.3 and persentase <= 0.6:\n",
    "        print(\"Kemungkinan Tingkat kejahatan sedang\")\n",
    "    elif persentase >0.6 and persentase <= 0.8:\n",
    "        print(\"Kemungkinan Tingkat kejahatan tinggi\")\n",
    "    elif persentase > 0.8:\n",
    "        print(\"Kemungkinan Tingkat kejahatan sangat tinggi\")\n",
    "\n",
    "hasil = dugaan(persentase)\n",
    "\n",
    "print(hasil)\n",
    "print(persentase)"
   ]
  },
  {
   "cell_type": "code",
   "execution_count": 3,
   "metadata": {},
   "outputs": [
    {
     "name": "stdout",
     "output_type": "stream",
     "text": [
      "Collecting seaborn\n",
      "  Downloading seaborn-0.11.2-py3-none-any.whl (292 kB)\n",
      "     ------------------------------------ 292.8/292.8 kB 317.5 kB/s eta 0:00:00\n",
      "Requirement already satisfied: matplotlib>=2.2 in c:\\users\\hp\\appdata\\local\\programs\\python\\python39\\lib\\site-packages (from seaborn) (3.5.2)\n",
      "Requirement already satisfied: pandas>=0.23 in c:\\users\\hp\\appdata\\local\\programs\\python\\python39\\lib\\site-packages (from seaborn) (1.4.3)\n",
      "Collecting scipy>=1.0\n",
      "  Downloading scipy-1.8.1-cp39-cp39-win_amd64.whl (36.9 MB)\n",
      "     -------------------------------------- 36.9/36.9 MB 506.3 kB/s eta 0:00:00\n",
      "Requirement already satisfied: numpy>=1.15 in c:\\users\\hp\\appdata\\local\\programs\\python\\python39\\lib\\site-packages (from seaborn) (1.23.0)\n",
      "Requirement already satisfied: pillow>=6.2.0 in c:\\users\\hp\\appdata\\local\\programs\\python\\python39\\lib\\site-packages (from matplotlib>=2.2->seaborn) (8.0.1)\n",
      "Requirement already satisfied: cycler>=0.10 in c:\\users\\hp\\appdata\\local\\programs\\python\\python39\\lib\\site-packages (from matplotlib>=2.2->seaborn) (0.11.0)\n",
      "Requirement already satisfied: pyparsing>=2.2.1 in c:\\users\\hp\\appdata\\local\\programs\\python\\python39\\lib\\site-packages (from matplotlib>=2.2->seaborn) (2.4.7)\n",
      "Requirement already satisfied: kiwisolver>=1.0.1 in c:\\users\\hp\\appdata\\local\\programs\\python\\python39\\lib\\site-packages (from matplotlib>=2.2->seaborn) (1.4.3)\n",
      "Requirement already satisfied: python-dateutil>=2.7 in c:\\users\\hp\\appdata\\local\\programs\\python\\python39\\lib\\site-packages (from matplotlib>=2.2->seaborn) (2.8.1)\n",
      "Requirement already satisfied: packaging>=20.0 in c:\\users\\hp\\appdata\\local\\programs\\python\\python39\\lib\\site-packages (from matplotlib>=2.2->seaborn) (20.8)\n",
      "Requirement already satisfied: fonttools>=4.22.0 in c:\\users\\hp\\appdata\\local\\programs\\python\\python39\\lib\\site-packages (from matplotlib>=2.2->seaborn) (4.33.3)\n",
      "Requirement already satisfied: pytz>=2020.1 in c:\\users\\hp\\appdata\\local\\programs\\python\\python39\\lib\\site-packages (from pandas>=0.23->seaborn) (2022.1)\n",
      "Requirement already satisfied: six>=1.5 in c:\\users\\hp\\appdata\\local\\programs\\python\\python39\\lib\\site-packages (from python-dateutil>=2.7->matplotlib>=2.2->seaborn) (1.15.0)\n",
      "Installing collected packages: scipy, seaborn\n",
      "Successfully installed scipy-1.8.1 seaborn-0.11.2\n",
      "\n",
      "[notice] A new release of pip available: 22.1.2 -> 22.2\n",
      "[notice] To update, run: python.exe -m pip install --upgrade pip\n",
      "Note: you may need to restart the kernel to use updated packages.\n"
     ]
    }
   ],
   "source": [
    "pip install seaborn"
   ]
  },
  {
   "cell_type": "code",
   "execution_count": 2,
   "metadata": {},
   "outputs": [
    {
     "ename": "ModuleNotFoundError",
     "evalue": "No module named 'seaborn'",
     "output_type": "error",
     "traceback": [
      "\u001b[1;31m---------------------------------------------------------------------------\u001b[0m",
      "\u001b[1;31mModuleNotFoundError\u001b[0m                       Traceback (most recent call last)",
      "\u001b[1;32m<ipython-input-2-0e9bf684eb80>\u001b[0m in \u001b[0;36m<module>\u001b[1;34m\u001b[0m\n\u001b[0;32m      1\u001b[0m \u001b[0mget_ipython\u001b[0m\u001b[1;33m(\u001b[0m\u001b[1;33m)\u001b[0m\u001b[1;33m.\u001b[0m\u001b[0mrun_line_magic\u001b[0m\u001b[1;33m(\u001b[0m\u001b[1;34m'matplotlib'\u001b[0m\u001b[1;33m,\u001b[0m \u001b[1;34m'inline'\u001b[0m\u001b[1;33m)\u001b[0m\u001b[1;33m\u001b[0m\u001b[1;33m\u001b[0m\u001b[0m\n\u001b[0;32m      2\u001b[0m \u001b[1;32mimport\u001b[0m \u001b[0mmatplotlib\u001b[0m\u001b[1;33m.\u001b[0m\u001b[0mpyplot\u001b[0m \u001b[1;32mas\u001b[0m \u001b[0mplt\u001b[0m\u001b[1;33m\u001b[0m\u001b[1;33m\u001b[0m\u001b[0m\n\u001b[1;32m----> 3\u001b[1;33m \u001b[1;32mimport\u001b[0m \u001b[0mseaborn\u001b[0m \u001b[1;32mas\u001b[0m \u001b[0msns\u001b[0m\u001b[1;33m;\u001b[0m \u001b[0msns\u001b[0m\u001b[1;33m.\u001b[0m\u001b[0mset\u001b[0m\u001b[1;33m(\u001b[0m\u001b[1;33m)\u001b[0m  \u001b[1;31m# for plot styling\u001b[0m\u001b[1;33m\u001b[0m\u001b[1;33m\u001b[0m\u001b[0m\n\u001b[0m\u001b[0;32m      4\u001b[0m \u001b[1;32mimport\u001b[0m \u001b[0mnumpy\u001b[0m \u001b[1;32mas\u001b[0m \u001b[0mnp\u001b[0m\u001b[1;33m\u001b[0m\u001b[1;33m\u001b[0m\u001b[0m\n",
      "\u001b[1;31mModuleNotFoundError\u001b[0m: No module named 'seaborn'"
     ]
    }
   ],
   "source": [
    "%matplotlib inline\n",
    "import matplotlib.pyplot as plt\n",
    "import seaborn as sns; sns.set()  # for plot styling\n",
    "import numpy as np"
   ]
  },
  {
   "cell_type": "code",
   "execution_count": 5,
   "metadata": {},
   "outputs": [
    {
     "name": "stdout",
     "output_type": "stream",
     "text": [
      "Collecting sklearn\n",
      "  Downloading sklearn-0.0.tar.gz (1.1 kB)\n",
      "  Preparing metadata (setup.py): startedNote: you may need to restart the kernel to use updated packages.\n",
      "  Preparing metadata (setup.py): finished with status 'done'\n",
      "Collecting scikit-learn\n",
      "  Downloading scikit_learn-1.1.1-cp39-cp39-win_amd64.whl (7.4 MB)\n",
      "     ---------------------------------------- 7.4/7.4 MB 595.2 kB/s eta 0:00:00\n",
      "Requirement already satisfied: numpy>=1.17.3 in c:\\users\\hp\\appdata\\local\\programs\\python\\python39\\lib\\site-packages (from scikit-learn->sklearn) (1.23.0)\n",
      "Requirement already satisfied: scipy>=1.3.2 in c:\\users\\hp\\appdata\\local\\programs\\python\\python39\\lib\\site-packages (from scikit-learn->sklearn) (1.8.1)\n",
      "Collecting joblib>=1.0.0\n",
      "\n",
      "  Downloading joblib-1.1.0-py2.py3-none-any.whl (306 kB)\n",
      "     ------------------------------------ 307.0/307.0 kB 558.8 kB/s eta 0:00:00\n",
      "Collecting threadpoolctl>=2.0.0\n",
      "  Downloading threadpoolctl-3.1.0-py3-none-any.whl (14 kB)\n",
      "Building wheels for collected packages: sklearn\n",
      "  Building wheel for sklearn (setup.py): started\n",
      "  Building wheel for sklearn (setup.py): finished with status 'done'\n",
      "  Created wheel for sklearn: filename=sklearn-0.0-py2.py3-none-any.whl size=1316 sha256=ace024f672991de8f7fe9650ae8d7339ff2f95cac86e1b6ba302500a17cf6bfb\n",
      "  Stored in directory: c:\\users\\hp\\appdata\\local\\pip\\cache\\wheels\\e4\\7b\\98\\b6466d71b8d738a0c547008b9eb39bf8676d1ff6ca4b22af1c\n",
      "Successfully built sklearn\n",
      "Installing collected packages: threadpoolctl, joblib, scikit-learn, sklearn\n",
      "Successfully installed joblib-1.1.0 scikit-learn-1.1.1 sklearn-0.0 threadpoolctl-3.1.0\n",
      "\n",
      "[notice] A new release of pip available: 22.1.2 -> 22.2\n",
      "[notice] To update, run: python.exe -m pip install --upgrade pip\n"
     ]
    }
   ],
   "source": [
    "pip install sklearn"
   ]
  },
  {
   "cell_type": "code",
   "execution_count": 141,
   "metadata": {},
   "outputs": [
    {
     "data": {
      "text/html": [
       "<div>\n",
       "<style scoped>\n",
       "    .dataframe tbody tr th:only-of-type {\n",
       "        vertical-align: middle;\n",
       "    }\n",
       "\n",
       "    .dataframe tbody tr th {\n",
       "        vertical-align: top;\n",
       "    }\n",
       "\n",
       "    .dataframe thead th {\n",
       "        text-align: right;\n",
       "    }\n",
       "</style>\n",
       "<table border=\"1\" class=\"dataframe\">\n",
       "  <thead>\n",
       "    <tr style=\"text-align: right;\">\n",
       "      <th></th>\n",
       "      <th>ID</th>\n",
       "      <th>Items</th>\n",
       "      <th>Probability Value</th>\n",
       "    </tr>\n",
       "  </thead>\n",
       "  <tbody>\n",
       "    <tr>\n",
       "      <th>20</th>\n",
       "      <td>21</td>\n",
       "      <td>Axe</td>\n",
       "      <td>7</td>\n",
       "    </tr>\n",
       "    <tr>\n",
       "      <th>21</th>\n",
       "      <td>22</td>\n",
       "      <td>Pregnancy Test</td>\n",
       "      <td>2</td>\n",
       "    </tr>\n",
       "    <tr>\n",
       "      <th>22</th>\n",
       "      <td>23</td>\n",
       "      <td>Clorox</td>\n",
       "      <td>3</td>\n",
       "    </tr>\n",
       "    <tr>\n",
       "      <th>23</th>\n",
       "      <td>24</td>\n",
       "      <td>Isoprophyl Alcohol</td>\n",
       "      <td>3</td>\n",
       "    </tr>\n",
       "    <tr>\n",
       "      <th>24</th>\n",
       "      <td>25</td>\n",
       "      <td>Nitrile Gloves</td>\n",
       "      <td>3</td>\n",
       "    </tr>\n",
       "  </tbody>\n",
       "</table>\n",
       "</div>"
      ],
      "text/plain": [
       "    ID               Items  Probability Value\n",
       "20  21                 Axe                  7\n",
       "21  22      Pregnancy Test                  2\n",
       "22  23              Clorox                  3\n",
       "23  24  Isoprophyl Alcohol                  3\n",
       "24  25      Nitrile Gloves                  3"
      ]
     },
     "execution_count": 141,
     "metadata": {},
     "output_type": "execute_result"
    }
   ],
   "source": [
    "# read data Testing terbaru.csv\n",
    "import pandas as pd\n",
    "\n",
    "# df= pd.read_csv('./Testing terbaru.csv')\n",
    "# df.head(10)\n",
    "\n",
    "dataset = pd.read_csv('./PembunuhanItemrevisi.csv')\n",
    "dataset.tail()"
   ]
  },
  {
   "cell_type": "code",
   "execution_count": 142,
   "metadata": {},
   "outputs": [],
   "source": [
    "from sklearn.cluster import KMeans\n",
    "from sklearn.preprocessing import MinMaxScaler\n",
    "from matplotlib import pyplot as plt\n",
    "%matplotlib inline\n"
   ]
  },
  {
   "cell_type": "code",
   "execution_count": 143,
   "metadata": {},
   "outputs": [
    {
     "data": {
      "text/plain": [
       "Text(0.5, 0, 'ID')"
      ]
     },
     "execution_count": 143,
     "metadata": {},
     "output_type": "execute_result"
    },
    {
     "data": {
      "image/png": "[encoded data removed]",
      "text/plain": [
       "<Figure size 432x288 with 1 Axes>"
      ]
     },
     "metadata": {
      "needs_background": "light"
     },
     "output_type": "display_data"
    }
   ],
   "source": [
    "plt.scatter(dataset['ID'], dataset['Probability Value'], c='red', s=50)\n",
    "plt.ylabel('Probability Value')\n",
    "plt.xlabel('ID')"
   ]
  },
  {
   "cell_type": "code",
   "execution_count": 21,
   "metadata": {},
   "outputs": [
    {
     "data": {
      "text/plain": [
       "array([2, 2, 2, 2, 2, 2, 2, 2, 0, 0, 0, 0, 0, 0, 0, 0, 0, 1, 1, 1, 1, 1,\n",
       "       1, 1, 1])"
      ]
     },
     "execution_count": 21,
     "metadata": {},
     "output_type": "execute_result"
    }
   ],
   "source": [
    "km = KMeans(n_clusters=3)\n",
    "y_predict = km.fit_predict(dataset[['ID', 'Probability Value']])\n",
    "y_predict"
   ]
  },
  {
   "cell_type": "code",
   "execution_count": 22,
   "metadata": {},
   "outputs": [
    {
     "data": {
      "text/html": [
       "<div>\n",
       "<style scoped>\n",
       "    .dataframe tbody tr th:only-of-type {\n",
       "        vertical-align: middle;\n",
       "    }\n",
       "\n",
       "    .dataframe tbody tr th {\n",
       "        vertical-align: top;\n",
       "    }\n",
       "\n",
       "    .dataframe thead th {\n",
       "        text-align: right;\n",
       "    }\n",
       "</style>\n",
       "<table border=\"1\" class=\"dataframe\">\n",
       "  <thead>\n",
       "    <tr style=\"text-align: right;\">\n",
       "      <th></th>\n",
       "      <th>ID</th>\n",
       "      <th>Items</th>\n",
       "      <th>Probability Value</th>\n",
       "      <th>cluster</th>\n",
       "    </tr>\n",
       "  </thead>\n",
       "  <tbody>\n",
       "    <tr>\n",
       "      <th>20</th>\n",
       "      <td>21</td>\n",
       "      <td>Axe</td>\n",
       "      <td>7</td>\n",
       "      <td>1</td>\n",
       "    </tr>\n",
       "    <tr>\n",
       "      <th>21</th>\n",
       "      <td>22</td>\n",
       "      <td>Pregnancy Test</td>\n",
       "      <td>2</td>\n",
       "      <td>1</td>\n",
       "    </tr>\n",
       "    <tr>\n",
       "      <th>22</th>\n",
       "      <td>23</td>\n",
       "      <td>Clorox</td>\n",
       "      <td>3</td>\n",
       "      <td>1</td>\n",
       "    </tr>\n",
       "    <tr>\n",
       "      <th>23</th>\n",
       "      <td>24</td>\n",
       "      <td>Isoprophyl Alcohol</td>\n",
       "      <td>3</td>\n",
       "      <td>1</td>\n",
       "    </tr>\n",
       "    <tr>\n",
       "      <th>24</th>\n",
       "      <td>25</td>\n",
       "      <td>Nitrile Gloves</td>\n",
       "      <td>3</td>\n",
       "      <td>1</td>\n",
       "    </tr>\n",
       "  </tbody>\n",
       "</table>\n",
       "</div>"
      ],
      "text/plain": [
       "    ID               Items  Probability Value  cluster\n",
       "20  21                 Axe                  7        1\n",
       "21  22      Pregnancy Test                  2        1\n",
       "22  23              Clorox                  3        1\n",
       "23  24  Isoprophyl Alcohol                  3        1\n",
       "24  25      Nitrile Gloves                  3        1"
      ]
     },
     "execution_count": 22,
     "metadata": {},
     "output_type": "execute_result"
    }
   ],
   "source": [
    "dataset['cluster'] = y_predict\n",
    "dataset.head()\n",
    "dataset.tail()\n"
   ]
  },
  {
   "cell_type": "code",
   "execution_count": 9,
   "metadata": {},
   "outputs": [
    {
     "data": {
      "text/plain": [
       "array([[21.5       ,  4.5       ],\n",
       "       [ 4.5       ,  4.125     ],\n",
       "       [13.        ,  3.44444444]])"
      ]
     },
     "execution_count": 9,
     "metadata": {},
     "output_type": "execute_result"
    }
   ],
   "source": [
    "km.cluster_centers_"
   ]
  },
  {
   "cell_type": "code",
   "execution_count": 11,
   "metadata": {},
   "outputs": [
    {
     "data": {
      "text/plain": [
       "<matplotlib.legend.Legend at 0x11baa483a60>"
      ]
     },
     "execution_count": 11,
     "metadata": {},
     "output_type": "execute_result"
    },
    {
     "data": {
      "image/png": "[encoded data removed]",
      "text/plain": [
       "<Figure size 432x288 with 1 Axes>"
      ]
     },
     "metadata": {
      "needs_background": "light"
     },
     "output_type": "display_data"
    }
   ],
   "source": [
    "from cProfile import label\n",
    "\n",
    "\n",
    "dataset1 = dataset[dataset.cluster == 0]\n",
    "dataset2 = dataset[dataset.cluster == 1]\n",
    "dataset3 = dataset[dataset.cluster == 2]\n",
    "\n",
    "plt.scatter(dataset1.ID, dataset1['Probability Value'], c='red', s=50)\n",
    "plt.scatter(dataset2.ID, dataset2['Probability Value'], c='blue', s=50)\n",
    "plt.scatter(dataset3.ID, dataset3['Probability Value'], c='green', s=50)\n",
    "plt.scatter(km.cluster_centers_[:, 1], km.cluster_centers_[:, 1], c='black', s=50)\n",
    "plt.ylabel('Probability Value')\n",
    "plt.xlabel('ID')\n",
    "plt.legend(['Pembunuhan', 'Kidnap', 'Clean TKP'])"
   ]
  },
  {
   "cell_type": "code",
   "execution_count": 2,
   "metadata": {},
   "outputs": [
    {
     "data": {
      "text/html": [
       "<div>\n",
       "<style scoped>\n",
       "    .dataframe tbody tr th:only-of-type {\n",
       "        vertical-align: middle;\n",
       "    }\n",
       "\n",
       "    .dataframe tbody tr th {\n",
       "        vertical-align: top;\n",
       "    }\n",
       "\n",
       "    .dataframe thead th {\n",
       "        text-align: right;\n",
       "    }\n",
       "</style>\n",
       "<table border=\"1\" class=\"dataframe\">\n",
       "  <thead>\n",
       "    <tr style=\"text-align: right;\">\n",
       "      <th></th>\n",
       "      <th>ID</th>\n",
       "      <th>Items</th>\n",
       "      <th>Probability Value</th>\n",
       "      <th>Potential Criminal Usage</th>\n",
       "    </tr>\n",
       "  </thead>\n",
       "  <tbody>\n",
       "    <tr>\n",
       "      <th>0</th>\n",
       "      <td>1</td>\n",
       "      <td>Citrus Fruits</td>\n",
       "      <td>1</td>\n",
       "      <td>Remove Evidence</td>\n",
       "    </tr>\n",
       "    <tr>\n",
       "      <th>1</th>\n",
       "      <td>2</td>\n",
       "      <td>Bleach</td>\n",
       "      <td>2</td>\n",
       "      <td>Remove Evidence</td>\n",
       "    </tr>\n",
       "    <tr>\n",
       "      <th>2</th>\n",
       "      <td>3</td>\n",
       "      <td>UV Light</td>\n",
       "      <td>3</td>\n",
       "      <td>Remove Evidence</td>\n",
       "    </tr>\n",
       "    <tr>\n",
       "      <th>3</th>\n",
       "      <td>4</td>\n",
       "      <td>Alcohol</td>\n",
       "      <td>3</td>\n",
       "      <td>Remove Evidence</td>\n",
       "    </tr>\n",
       "    <tr>\n",
       "      <th>4</th>\n",
       "      <td>5</td>\n",
       "      <td>Plastic Bag</td>\n",
       "      <td>2</td>\n",
       "      <td>Remove Evidence</td>\n",
       "    </tr>\n",
       "  </tbody>\n",
       "</table>\n",
       "</div>"
      ],
      "text/plain": [
       "   ID          Items  Probability Value Potential Criminal Usage\n",
       "0   1  Citrus Fruits                  1          Remove Evidence\n",
       "1   2         Bleach                  2          Remove Evidence\n",
       "2   3       UV Light                  3          Remove Evidence\n",
       "3   4        Alcohol                  3          Remove Evidence\n",
       "4   5    Plastic Bag                  2          Remove Evidence"
      ]
     },
     "execution_count": 2,
     "metadata": {},
     "output_type": "execute_result"
    }
   ],
   "source": [
    "#WEEK 3\n",
    "import numpy as np\n",
    "import pandas as pd\n",
    "import statsmodels.api as sm\n",
    "import matplotlib.pyplot as plt\n",
    "import seaborn as sns\n",
    "sns.set()\n",
    "from sklearn.cluster import KMeans\n",
    "\n",
    "data = pd.read_csv('./Dataset alpha 0.1.csv')\n",
    "data.head()"
   ]
  },
  {
   "cell_type": "code",
   "execution_count": 3,
   "metadata": {},
   "outputs": [
    {
     "data": {
      "text/plain": [
       "array([3, 3, 3, 3, 3, 3, 3, 1, 1, 1, 1, 1, 1, 2, 2, 2, 2, 2, 2, 2, 4, 4,\n",
       "       4, 4, 4, 4, 0, 0, 0, 0, 0, 0, 0, 0, 0])"
      ]
     },
     "execution_count": 3,
     "metadata": {},
     "output_type": "execute_result"
    }
   ],
   "source": [
    "# kmeans clustering\n",
    "\n",
    "km = KMeans(n_clusters=5)\n",
    "y_predict = km.fit_predict(data[['ID', 'Probability Value']])\n",
    "y_predict"
   ]
  },
  {
   "cell_type": "code",
   "execution_count": 4,
   "metadata": {},
   "outputs": [],
   "source": [
    "data['cluster'] = y_predict\n",
    "\n"
   ]
  },
  {
   "cell_type": "code",
   "execution_count": 5,
   "metadata": {},
   "outputs": [
    {
     "data": {
      "image/png": "[encoded data removed]",
      "text/plain": [
       "<Figure size 432x288 with 1 Axes>"
      ]
     },
     "metadata": {
      "needs_background": "light"
     },
     "output_type": "display_data"
    }
   ],
   "source": [
    "# visualisasi data\n",
    "\n",
    "def visualisasi(data):\n",
    "    dataset1 = data[data.cluster == 0]\n",
    "    dataset2 = data[data.cluster == 1]\n",
    "    dataset3 = data[data.cluster == 2]\n",
    "    dataset4 = data[data.cluster == 3]\n",
    "    dataset5 = data[data.cluster == 4]\n",
    "    plt.scatter(dataset1.ID, dataset1['Probability Value'], c='red', s=50)\n",
    "    plt.scatter(dataset2.ID, dataset2['Probability Value'], c='blue', s=50)\n",
    "    plt.scatter(dataset3.ID, dataset3['Probability Value'], c='green', s=50)\n",
    "    plt.scatter(dataset4.ID, dataset4['Probability Value'], c='black', s=50)\n",
    "    plt.scatter(dataset5.ID, dataset5['Probability Value'], c='yellow', s=50)\n",
    "    # plt.scatter(km.cluster_centers_[:, 1], km.cluster_centers_[:, 1], c='black', s=50)\n",
    "    plt.ylabel('Probability Value')\n",
    "    plt.xlabel('ID')\n",
    "    plt.legend(['Remove Evidence', 'Kidnap', 'Narcotics','Craft Explosive','Murder'])\n",
    "    plt.show()\n",
    "\n",
    "visualisasi(data)"
   ]
  },
  {
   "cell_type": "code",
   "execution_count": 36,
   "metadata": {},
   "outputs": [],
   "source": [
    "listbarang = ['Citrus Fruits','Bleach','UV Light']\n",
    "#  clasification listbarang clustering\n",
    "\n",
    "for i in data['ID']:\n",
    "    if data['Items'].all() in listbarang:\n",
    "        print(i)\n",
    "\n",
    "\n"
   ]
  },
  {
   "cell_type": "code",
   "execution_count": null,
   "metadata": {},
   "outputs": [],
   "source": []
  }
 ],
 "metadata": {
  "kernelspec": {
   "display_name": "Python 3.9.1 64-bit",
   "language": "python",
   "name": "python3"
  },
  "language_info": {
   "codemirror_mode": {
    "name": "ipython",
    "version": 3
   },
   "file_extension": ".py",
   "mimetype": "text/x-python",
   "name": "python",
   "nbconvert_exporter": "python",
   "pygments_lexer": "ipython3",
   "version": "3.9.1"
  },
  "orig_nbformat": 4,
  "vscode": {
   "interpreter": {
    "hash": "f6246b25e200e4c5124e3e61789ac81350562f0761bbcf92ad9e48654207659c"
   }
  }
 },
 "nbformat": 4,
 "nbformat_minor": 2
}
