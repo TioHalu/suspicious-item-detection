{
 "cells": [
  {
   "cell_type": "code",
   "execution_count": 16,
   "metadata": {},
   "outputs": [
    {
     "name": "stdout",
     "output_type": "stream",
     "text": [
      "kemungkinan akan menusuk korban lalu memotong2 dimasukin ke dalam  karung\n"
     ]
    },
    {
     "data": {
      "text/plain": [
       "(['pisau', 'sinsaw', 'karung'], 80)"
      ]
     },
     "execution_count": 16,
     "metadata": {},
     "output_type": "execute_result"
    }
   ],
   "source": [
    "# list barang yang dibeli\n",
    "\n",
    "barang = [ \"pisau\",\"sinsaw\", \"karung\"]\n",
    "barang1 = [\"pisau\",\"gergaji\", \"apel\", \"jeruk\"]\n",
    "\n",
    "# dictionary barang yang dibeli\n",
    "\n",
    "buy = {\"pisau\":10, \"deterjen\":20, \"sinsaw\":30, \"karung\":40}\n",
    "\n",
    "\n",
    "# list intersection dari dictionary\n",
    "\n",
    "def intersection(list1, list2):\n",
    "    \n",
    "    list3 = []\n",
    "    keterangan = \"\"\n",
    "    value = 0\n",
    "    for i in list1:\n",
    "        if i in list2:\n",
    "            list3.append(i)\n",
    "            # menjumlahkan value dari dictionary\n",
    "            value += buy[i]\n",
    "    \n",
    "    if value == 0:\n",
    "        print(\"barang tidak ada mencurigakan\") \n",
    "    elif value == 10:\n",
    "        print(\"kemungkinan akan menusuk korban\")\n",
    "    elif value == 20:\n",
    "       print(\"kemungkinan akan mencuci\") \n",
    "    elif value == 30:\n",
    "        print(\"kemungkinan akan menusuk korban lalu mencuci\")\n",
    "    elif value == 40:\n",
    "        print(\"kemungkinan akan menusuk korban lalu memotong2 dengan sinsaw\")\n",
    "    elif value == 80:\n",
    "        print(\"kemungkinan akan menusuk korban lalu memotong2 dimasukin ke dalam  karung\")\n",
    "        \n",
    "    return list3, value\n",
    "\n",
    "intersection(barang, buy)"
   ]
  },
  {
   "cell_type": "code",
   "execution_count": 115,
   "metadata": {},
   "outputs": [
    {
     "data": {
      "text/html": [
       "<div>\n",
       "<style scoped>\n",
       "    .dataframe tbody tr th:only-of-type {\n",
       "        vertical-align: middle;\n",
       "    }\n",
       "\n",
       "    .dataframe tbody tr th {\n",
       "        vertical-align: top;\n",
       "    }\n",
       "\n",
       "    .dataframe thead th {\n",
       "        text-align: right;\n",
       "    }\n",
       "</style>\n",
       "<table border=\"1\" class=\"dataframe\">\n",
       "  <thead>\n",
       "    <tr style=\"text-align: right;\">\n",
       "      <th></th>\n",
       "      <th>ID</th>\n",
       "      <th>Items</th>\n",
       "      <th>Probability Value</th>\n",
       "    </tr>\n",
       "  </thead>\n",
       "  <tbody>\n",
       "    <tr>\n",
       "      <th>0</th>\n",
       "      <td>1</td>\n",
       "      <td>Ski mask</td>\n",
       "      <td>4</td>\n",
       "    </tr>\n",
       "    <tr>\n",
       "      <th>1</th>\n",
       "      <td>2</td>\n",
       "      <td>Detergent</td>\n",
       "      <td>2</td>\n",
       "    </tr>\n",
       "    <tr>\n",
       "      <th>2</th>\n",
       "      <td>3</td>\n",
       "      <td>Sleeping pills</td>\n",
       "      <td>4</td>\n",
       "    </tr>\n",
       "    <tr>\n",
       "      <th>3</th>\n",
       "      <td>4</td>\n",
       "      <td>Hammer</td>\n",
       "      <td>5</td>\n",
       "    </tr>\n",
       "    <tr>\n",
       "      <th>4</th>\n",
       "      <td>5</td>\n",
       "      <td>Chainsaw</td>\n",
       "      <td>7</td>\n",
       "    </tr>\n",
       "  </tbody>\n",
       "</table>\n",
       "</div>"
      ],
      "text/plain": [
       "   ID           Items  Probability Value\n",
       "0   1        Ski mask                  4\n",
       "1   2       Detergent                  2\n",
       "2   3  Sleeping pills                  4\n",
       "3   4          Hammer                  5\n",
       "4   5        Chainsaw                  7"
      ]
     },
     "execution_count": 115,
     "metadata": {},
     "output_type": "execute_result"
    }
   ],
   "source": [
    "# mengambil data set item barang mencurigakan\n",
    "import pandas as pd\n",
    "itemKill = pd.read_csv('./PembunuhanItemrevisi.csv')\n",
    "itemKill.head()"
   ]
  },
  {
   "cell_type": "code",
   "execution_count": 116,
   "metadata": {},
   "outputs": [],
   "source": [
    "#list barang mencurigakan \n",
    "listKill=[]  \n",
    "for i in itemKill['Items']:\n",
    "    listKill.append(i)\n",
    "#list nilai barang mencurikagakan\n",
    "listProbVal=[]\n",
    "for i in itemKill['Probability Value']:\n",
    "    listProbVal.append(i)"
   ]
  },
  {
   "cell_type": "code",
   "execution_count": 117,
   "metadata": {},
   "outputs": [],
   "source": [
    "# contoh list barang yang dibeli\n",
    "listBarang=[\"Hammer\",\"Chainsaw\",\"Duct Tape\",\"Shovel\"]"
   ]
  },
  {
   "cell_type": "code",
   "execution_count": 118,
   "metadata": {},
   "outputs": [
    {
     "name": "stdout",
     "output_type": "stream",
     "text": [
      "{'Ski mask': 4, 'Detergent': 2, 'Sleeping pills': 4, 'Hammer': 5, 'Chainsaw': 7, 'Gloves': 3, 'Suitcase': 4, 'Duct Tape': 4, 'Bleach': 2, 'Plastic Bag': 2, 'Shovel': 7, 'Zip Ties': 3, 'Rope': 3, 'Pressure Cooker': 2, 'Boxes of Screws': 3, 'Black Powder': 8, 'Citrus Fruits': 1, 'Razor': 6, 'Knife': 7, 'Tarp': 5, 'Axe': 7, 'Pregnancy Test': 2, 'Clorox': 3, 'Isoprophyl Alcohol': 3, 'Nitrile Gloves': 3}\n",
      "0.23\n",
      "Kemungkinan Tingkat kejahatan rendah\n",
      "None\n"
     ]
    }
   ],
   "source": [
    "#mengubah list barang mencurigakan ke dictionary dengan nilai value\n",
    "def listToDictionary(list1, list2):\n",
    "    dictionary = {}\n",
    "    for i in range(len(list1)):\n",
    "        dictionary[list1[i]] = list2[i]\n",
    "    # cek(barang,dictionary)\n",
    "    return dictionary\n",
    "\n",
    "data = listToDictionary(listKill,listProbVal)\n",
    "# menampilkan data dalam bentuk dictionary\n",
    "print(data)\n",
    "\n",
    "\n",
    "# intersection dari list dan dictionary\n",
    "def intersection(list1, list2):\n",
    "    \n",
    "    list3 = []\n",
    "    keterangan = \"\"\n",
    "    value = 0\n",
    "    for i in list1:\n",
    "        if i in list2:\n",
    "            list3.append(i)\n",
    "            # menjumlahkan value dari dictionary\n",
    "            value += data[i]\n",
    "    \n",
    "    persentase = value/100\n",
    "    return persentase\n",
    "\n",
    "\n",
    "persentase = intersection(listBarang, data)\n",
    "print(persentase)\n",
    "\n",
    "# function cek persentase\n",
    "def dugaan(persentase):\n",
    "    if persentase <= 0.3:\n",
    "        print(\"Kemungkinan Tingkat kejahatan rendah\")\n",
    "    elif persentase >0.3 and persentase <= 0.6:\n",
    "        print(\"Kemungkinan Tingkat kejahatan sedang\")\n",
    "    elif persentase >0.6 and persentase <= 0.8:\n",
    "        print(\"Kemungkinan Tingkat kejahatan tinggi\")\n",
    "    elif persentase > 0.8:\n",
    "        print(\"Kemungkinan Tingkat kejahatan sangat tinggi\")\n",
    "\n",
    "hasil = dugaan(persentase)\n",
    "\n",
    "print(hasil)"
   ]
  },
  {
   "cell_type": "code",
   "execution_count": 119,
   "metadata": {},
   "outputs": [
    {
     "data": {
      "text/html": [
       "<div>\n",
       "<style scoped>\n",
       "    .dataframe tbody tr th:only-of-type {\n",
       "        vertical-align: middle;\n",
       "    }\n",
       "\n",
       "    .dataframe tbody tr th {\n",
       "        vertical-align: top;\n",
       "    }\n",
       "\n",
       "    .dataframe thead th {\n",
       "        text-align: right;\n",
       "    }\n",
       "</style>\n",
       "<table border=\"1\" class=\"dataframe\">\n",
       "  <thead>\n",
       "    <tr style=\"text-align: right;\">\n",
       "      <th></th>\n",
       "      <th>Id Member</th>\n",
       "      <th>Nama</th>\n",
       "      <th>TglPembelian</th>\n",
       "      <th>IdBarang</th>\n",
       "      <th>NamaBarang</th>\n",
       "    </tr>\n",
       "  </thead>\n",
       "  <tbody>\n",
       "    <tr>\n",
       "      <th>0</th>\n",
       "      <td>24daebcd-57ab-4f3b-8f4c-6d2ec7d5ee88</td>\n",
       "      <td>Abubakar Sinclair</td>\n",
       "      <td>14-07-2022</td>\n",
       "      <td>13746</td>\n",
       "      <td>Gloves</td>\n",
       "    </tr>\n",
       "    <tr>\n",
       "      <th>1</th>\n",
       "      <td>74deafd9-8689-427d-8718-f8e0c506e30c</td>\n",
       "      <td>Millie-Rose Strickland</td>\n",
       "      <td>14-07-2022</td>\n",
       "      <td>6d840</td>\n",
       "      <td>Ski mask</td>\n",
       "    </tr>\n",
       "    <tr>\n",
       "      <th>2</th>\n",
       "      <td>74deafd9-8689-427d-8718-f8e0c506e30c</td>\n",
       "      <td>Millie-Rose Strickland</td>\n",
       "      <td>15-07-2022</td>\n",
       "      <td>13746</td>\n",
       "      <td>Gloves</td>\n",
       "    </tr>\n",
       "    <tr>\n",
       "      <th>3</th>\n",
       "      <td>74deafd9-8689-427d-8718-f8e0c506e30c</td>\n",
       "      <td>Millie-Rose Strickland</td>\n",
       "      <td>15-07-2022</td>\n",
       "      <td>65772</td>\n",
       "      <td>Suitcase</td>\n",
       "    </tr>\n",
       "    <tr>\n",
       "      <th>4</th>\n",
       "      <td>74deafd9-8689-427d-8718-f8e0c506e30c</td>\n",
       "      <td>Millie-Rose Strickland</td>\n",
       "      <td>15-07-2022</td>\n",
       "      <td>43a92</td>\n",
       "      <td>Knife</td>\n",
       "    </tr>\n",
       "  </tbody>\n",
       "</table>\n",
       "</div>"
      ],
      "text/plain": [
       "                              Id Member                    Nama TglPembelian  \\\n",
       "0  24daebcd-57ab-4f3b-8f4c-6d2ec7d5ee88       Abubakar Sinclair   14-07-2022   \n",
       "1  74deafd9-8689-427d-8718-f8e0c506e30c  Millie-Rose Strickland   14-07-2022   \n",
       "2  74deafd9-8689-427d-8718-f8e0c506e30c  Millie-Rose Strickland   15-07-2022   \n",
       "3  74deafd9-8689-427d-8718-f8e0c506e30c  Millie-Rose Strickland   15-07-2022   \n",
       "4  74deafd9-8689-427d-8718-f8e0c506e30c  Millie-Rose Strickland   15-07-2022   \n",
       "\n",
       "  IdBarang NamaBarang  \n",
       "0    13746     Gloves  \n",
       "1    6d840   Ski mask  \n",
       "2    13746     Gloves  \n",
       "3    65772   Suitcase  \n",
       "4    43a92      Knife  "
      ]
     },
     "execution_count": 119,
     "metadata": {},
     "output_type": "execute_result"
    }
   ],
   "source": [
    "import pandas as pd\n",
    "\n",
    "datapembelian = pd.read_csv('./test dataset 25.csv')\n",
    "\n",
    "datapembelian.head()\n",
    "\n"
   ]
  },
  {
   "cell_type": "code",
   "execution_count": 123,
   "metadata": {},
   "outputs": [],
   "source": [
    "# variable data adalah killset\n",
    "# data frame\n",
    "listID = []\n",
    "for i in datapembelian['Id Member']:\n",
    "    listID.append(i)\n",
    "            \n",
    "\n",
    "# cek kesamaan listID dan Id Member maka masukan ke dalam variavle newlist\n",
    "\n",
    "newlist = []\n",
    "listbarangnew=[]\n",
    "\n",
    "n =  int(input(\"Masukan jumlah barang yang dibeli : \"))\n",
    "\n",
    "for i in range(len(listID)):\n",
    "    if listID[i] in datapembelian['Id Member'][n]:\n",
    "        newlist.append(datapembelian['NamaBarang'][i])\n",
    "        \n",
    "        \n",
    "\n"
   ]
  },
  {
   "cell_type": "code",
   "execution_count": 126,
   "metadata": {},
   "outputs": [
    {
     "name": "stdout",
     "output_type": "stream",
     "text": [
      "Kemungkinan Tingkat kejahatan rendah\n",
      "None\n",
      "0.19\n"
     ]
    }
   ],
   "source": [
    "\n",
    "def intersection(list1, list2):\n",
    "    \n",
    "    list3 = []\n",
    "    keterangan = \"\"\n",
    "    value = 0\n",
    "    for i in list1:\n",
    "        if i in list2:\n",
    "            list3.append(i)\n",
    "            # menjumlahkan value dari dictionary\n",
    "            value += data[i]\n",
    "    \n",
    "    persentase = value/100\n",
    "    return persentase\n",
    "\n",
    "persentase = intersection(newlist, data)\n",
    "\n",
    "def dugaan(persentase):\n",
    "    if persentase <= 0.3:\n",
    "        print(\"Kemungkinan Tingkat kejahatan rendah\")\n",
    "    elif persentase >0.3 and persentase <= 0.6:\n",
    "        print(\"Kemungkinan Tingkat kejahatan sedang\")\n",
    "    elif persentase >0.6 and persentase <= 0.8:\n",
    "        print(\"Kemungkinan Tingkat kejahatan tinggi\")\n",
    "    elif persentase > 0.8:\n",
    "        print(\"Kemungkinan Tingkat kejahatan sangat tinggi\")\n",
    "\n",
    "hasil = dugaan(persentase)\n",
    "\n",
    "print(hasil)\n",
    "print(persentase)"
   ]
  },
  {
   "cell_type": "code",
   "execution_count": null,
   "metadata": {},
   "outputs": [],
   "source": []
  }
 ],
 "metadata": {
  "kernelspec": {
   "display_name": "Python 3.9.1 64-bit",
   "language": "python",
   "name": "python3"
  },
  "language_info": {
   "codemirror_mode": {
    "name": "ipython",
    "version": 3
   },
   "file_extension": ".py",
   "mimetype": "text/x-python",
   "name": "python",
   "nbconvert_exporter": "python",
   "pygments_lexer": "ipython3",
   "version": "3.9.1"
  },
  "orig_nbformat": 4,
  "vscode": {
   "interpreter": {
    "hash": "f6246b25e200e4c5124e3e61789ac81350562f0761bbcf92ad9e48654207659c"
   }
  }
 },
 "nbformat": 4,
 "nbformat_minor": 2
}
